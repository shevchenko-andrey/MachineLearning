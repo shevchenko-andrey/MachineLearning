{
 "cells": [
  {
   "cell_type": "markdown",
   "source": [
    "# Практика №3 \n",
    "## Дослідження даних за допомогою бібліотеки pandas"
   ],
   "metadata": {
    "collapsed": false
   },
   "id": "3d787a28d2d74f5b"
  },
  {
   "cell_type": "code",
   "execution_count": 1,
   "outputs": [],
   "source": [
    "# імпорт модулів\n",
    "import numpy as np\n",
    "import pandas as pd\n",
    "import matplotlib.pyplot as plt"
   ],
   "metadata": {
    "collapsed": false,
    "ExecuteTime": {
     "end_time": "2023-09-19T08:44:55.881833400Z",
     "start_time": "2023-09-19T08:44:55.584053300Z"
    }
   },
   "id": "c7087f89eda1c2b6"
  },
  {
   "cell_type": "code",
   "execution_count": 2,
   "outputs": [],
   "source": [
    "# зчитайте файл players_20.csv\n",
    "df_data = None"
   ],
   "metadata": {
    "collapsed": false,
    "ExecuteTime": {
     "end_time": "2023-09-19T08:45:03.752662600Z",
     "start_time": "2023-09-19T08:45:03.750130900Z"
    }
   },
   "id": "cd1b6214f1e27fac"
  },
  {
   "cell_type": "code",
   "execution_count": 3,
   "outputs": [],
   "source": "# виведіть перші 6 рядків об'єкту DataFrame\n",
   "metadata": {
    "collapsed": false,
    "ExecuteTime": {
     "end_time": "2023-09-19T08:45:09.803122Z",
     "start_time": "2023-09-19T08:45:09.801083200Z"
    }
   },
   "id": "25973717c53c8066"
  },
  {
   "cell_type": "code",
   "execution_count": 4,
   "outputs": [],
   "source": "# отримайте розміри об'єкту DataFrame\n",
   "metadata": {
    "collapsed": false,
    "ExecuteTime": {
     "end_time": "2023-09-19T08:45:22.297509Z",
     "start_time": "2023-09-19T08:45:22.297509Z"
    }
   },
   "id": "2775a85f0ca4329e"
  },
  {
   "cell_type": "markdown",
   "source": [
    "Результат має бути $(18278, 104)$"
   ],
   "metadata": {
    "collapsed": false
   },
   "id": "d85b21a48045cc15"
  },
  {
   "cell_type": "code",
   "execution_count": 5,
   "outputs": [],
   "source": [
    "# Отримайте список стовпців міток (див. атрибут columns, а потім використайте метод list() щоб перетворити їх на список)\n",
    "df_columns = None\n"
   ],
   "metadata": {
    "collapsed": false,
    "ExecuteTime": {
     "end_time": "2023-09-19T08:45:31.988059900Z",
     "start_time": "2023-09-19T08:45:31.988059900Z"
    }
   },
   "id": "6bde006fa1aaa15f"
  },
  {
   "cell_type": "code",
   "execution_count": 6,
   "outputs": [],
   "source": [
    "# створіть список з переліком назв стовпців, які потім необхідно буде видалити\n",
    "# Перелік стовпців: 'dob','sofifa_id', 'player_url', 'long_name', 'body_type', 'real_face', 'loaned_from', 'nation_position', 'nation_jersey_number'\n",
    "useless_columns = None\n"
   ],
   "metadata": {
    "collapsed": false,
    "ExecuteTime": {
     "end_time": "2023-09-19T08:45:47.164845400Z",
     "start_time": "2023-09-19T08:45:47.134899500Z"
    }
   },
   "id": "e05479df5db4e603"
  },
  {
   "cell_type": "code",
   "execution_count": 7,
   "outputs": [],
   "source": [
    "# видаліть вказані вище мітки стовпці (див. метод drop і зверніть увагу на параметр axis, оскільки необхідно видалити саме стовпці)\n",
    "# покажіть результат для перших 10 рядків\n",
    "df_dropped = None\n"
   ],
   "metadata": {
    "collapsed": false,
    "ExecuteTime": {
     "end_time": "2023-09-19T08:45:52.621562900Z",
     "start_time": "2023-09-19T08:45:52.604905100Z"
    }
   },
   "id": "e1dfb4c228816c63"
  },
  {
   "cell_type": "code",
   "execution_count": 8,
   "outputs": [],
   "source": [
    "# виведіть останні 5 рядків за стовпцем з міткою 'weight_kg'\n"
   ],
   "metadata": {
    "collapsed": false,
    "ExecuteTime": {
     "end_time": "2023-09-19T08:47:56.781678400Z",
     "start_time": "2023-09-19T08:47:56.758414900Z"
    }
   },
   "id": "b08c8221f6089283"
  },
  {
   "cell_type": "code",
   "execution_count": 9,
   "outputs": [],
   "source": "# виведіть перші 5 рядків за двома стовпцями з мітками 'short_name', 'weight_kg'\n",
   "metadata": {
    "collapsed": false,
    "ExecuteTime": {
     "end_time": "2023-09-19T08:49:02.814821400Z",
     "start_time": "2023-09-19T08:49:02.814317100Z"
    }
   },
   "id": "8964830b2cf17e14"
  },
  {
   "cell_type": "code",
   "execution_count": 33,
   "outputs": [],
   "source": [
    "# розрахуйте індекс маси тіла для кожного гравця і отримані дані мають бути додані до df_dropped за стовпцем з назвою мітки 'BMI'\n",
    "\n"
   ],
   "metadata": {
    "collapsed": false,
    "ExecuteTime": {
     "end_time": "2023-09-18T21:54:58.564104Z",
     "start_time": "2023-09-18T21:54:58.553654400Z"
    }
   },
   "id": "4a03eda472d36f1"
  },
  {
   "cell_type": "markdown",
   "source": [
    "При розрахунку індексу маси тіла зверніть увагу на те, що зріст гравця вказано у см, а при розрахунку зріст має бути у метрах. Формула для розрахунку:\n",
    "$$BMI = m/h^2 $$\n",
    " "
   ],
   "metadata": {
    "collapsed": false
   },
   "id": "e2e541a417247cee"
  },
  {
   "cell_type": "code",
   "execution_count": 10,
   "outputs": [],
   "source": "# вивести перші 10 рядків зі стовпцями з мітками 'short_name' і 'BMI'\n",
   "metadata": {
    "collapsed": false,
    "ExecuteTime": {
     "end_time": "2023-09-19T09:15:54.949850800Z",
     "start_time": "2023-09-19T09:15:54.886299200Z"
    }
   },
   "id": "e78cef8795a875ae"
  },
  {
   "metadata": {},
   "cell_type": "code",
   "outputs": [],
   "execution_count": null,
   "source": "# побудуйте гістограму роздподілу за індексом маси тіла\n",
   "id": "37a5e64445fee26"
  },
  {
   "cell_type": "code",
   "execution_count": 11,
   "outputs": [],
   "source": [
    "# Побудувати гістограму розподілу гравців за віком (стовпець 'age')"
   ],
   "metadata": {
    "collapsed": false,
    "ExecuteTime": {
     "end_time": "2023-09-19T09:39:42.859608900Z",
     "start_time": "2023-09-19T09:39:42.854113900Z"
    }
   },
   "id": "f6455ae414ca2a40"
  },
  {
   "cell_type": "code",
   "execution_count": null,
   "outputs": [],
   "source": "# для гравців старше 30 років знайти середнє значення і медіану ваги (стовпець 'weight_kg). Вивести останні 10 гравців. ",
   "metadata": {
    "collapsed": false
   },
   "id": "55ec30631bf6eb40"
  },
  {
   "metadata": {},
   "cell_type": "code",
   "outputs": [],
   "execution_count": null,
   "source": "# отримайте кількість гравців за національність (стовпець 'nationality' і див. метод value_counts()). Далі відсортуйте у порядку спадання і виведіть перші 7 рядків.",
   "id": "2ea2160ad1c9356d"
  },
  {
   "metadata": {},
   "cell_type": "code",
   "outputs": [],
   "execution_count": null,
   "source": "",
   "id": "db6d527916252a51"
  }
 ],
 "metadata": {
  "kernelspec": {
   "display_name": "Python 3",
   "language": "python",
   "name": "python3"
  },
  "language_info": {
   "codemirror_mode": {
    "name": "ipython",
    "version": 2
   },
   "file_extension": ".py",
   "mimetype": "text/x-python",
   "name": "python",
   "nbconvert_exporter": "python",
   "pygments_lexer": "ipython2",
   "version": "2.7.6"
  }
 },
 "nbformat": 4,
 "nbformat_minor": 5
}
