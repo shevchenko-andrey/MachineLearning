{
 "cells": [
  {
   "cell_type": "markdown",
   "source": [
    "# Практика №2\n",
    "## Робота з NumPy\n"
   ],
   "metadata": {
    "collapsed": false
   },
   "id": "484239dfe77bd680"
  },
  {
   "cell_type": "code",
   "execution_count": 2,
   "outputs": [],
   "source": [
    "import numpy as np"
   ],
   "metadata": {
    "collapsed": false,
    "ExecuteTime": {
     "end_time": "2023-09-11T22:14:24.726729900Z",
     "start_time": "2023-09-11T22:14:24.633722900Z"
    }
   },
   "id": "c2515f4c385bf434"
  },
  {
   "metadata": {},
   "cell_type": "markdown",
   "source": [
    "1. Створіть вектор (1,2,3) і виведіть його. Виведіть тип масиву.\n",
    "2. Створіть наступну матрицю і виведіть її:\n",
    "$$\n",
    "\\left(\\begin{array}{cc} \n",
    "1 & 2 & 3\\\\\n",
    "4 & 5 & 6\\\\\n",
    "7 & 8 & 9\n",
    "\\end{array}\\right)\n",
    "$$ \n",
    "3. Створіть нульову матрицю розміром (4,5) - див. numpy.zeros.\n",
    "4. Створіть одиничну матрицю розміром (3,3) - див. numpy.identity.\n",
    "5. Виведіть розмір матриці, створеної на 2 кроці.\n",
    "6. Створити дві матриці  $A = \n",
    "\\left(\\begin{array}{cc} \n",
    "1 & 2 & 3\\\\\n",
    "4 & 5 & 6\n",
    "\\end{array}\\right)\n",
    "$ і $B = \n",
    "\\left(\\begin{array}{cc} \n",
    "-1 & -2 & -3\\\\\n",
    "-4 & -5 & -6\n",
    "\\end{array}\\right)\n",
    "$. Виконайте операції додавання і віднімання для цих двох матриць.\n",
    "7. Для вищезазначених матриць виконайте поелементне множення.\n",
    "8. До матриці $A$ додайте константу $b=2$.\n",
    "9. Виконайте множення матриці $\\left(\\begin{array}{cc} \n",
    "1 & 2 & 3\\\\\n",
    "4 & 5 & 6\n",
    "\\end{array}\\right)\n",
    "$ на матрицю $\\left(\\begin{array}{cc} \n",
    "1 & 1\\\\\n",
    "1 & 1\\\\\n",
    "1 & 1\n",
    "\\end{array}\\right)\n",
    "$\n",
    "10. Для двох векторів $v = (1,2,3)$ і $u = (1,1,1)$ знайти Евклідову норму (реалізувати власноруч і перевірити з numpy.linalg.norm)\n",
    "11. Дано вектор $[11,22,33,44,55]$. Необхідно вивести усі елементи від передостаннього елемента до кінця (використайте зріз).\n"
   ],
   "id": "7f3d745829faf4f"
  },
  {
   "cell_type": "code",
   "execution_count": 3,
   "outputs": [],
   "source": [
    "#ваш код"
   ],
   "metadata": {
    "collapsed": false,
    "ExecuteTime": {
     "end_time": "2023-09-11T22:15:50.274912900Z",
     "start_time": "2023-09-11T22:15:50.268226800Z"
    }
   },
   "id": "71983571cf1726e1"
  },
  {
   "cell_type": "markdown",
   "source": [],
   "metadata": {
    "collapsed": false
   },
   "id": "1cb3380712e1df5a"
  },
  {
   "cell_type": "code",
   "execution_count": null,
   "outputs": [],
   "source": [],
   "metadata": {
    "collapsed": false
   },
   "id": "2af1fe0497f37da1"
  },
  {
   "cell_type": "code",
   "execution_count": null,
   "outputs": [],
   "source": [],
   "metadata": {
    "collapsed": false
   },
   "id": "123dc262ded4b53c"
  }
 ],
 "metadata": {
  "kernelspec": {
   "display_name": "Python 3",
   "language": "python",
   "name": "python3"
  },
  "language_info": {
   "codemirror_mode": {
    "name": "ipython",
    "version": 2
   },
   "file_extension": ".py",
   "mimetype": "text/x-python",
   "name": "python",
   "nbconvert_exporter": "python",
   "pygments_lexer": "ipython2",
   "version": "2.7.6"
  }
 },
 "nbformat": 4,
 "nbformat_minor": 5
}
